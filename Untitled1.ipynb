{
  "nbformat": 4,
  "nbformat_minor": 0,
  "metadata": {
    "colab": {
      "name": "Untitled1.ipynb",
      "version": "0.3.2",
      "provenance": [],
      "collapsed_sections": [],
      "include_colab_link": true
    },
    "kernelspec": {
      "name": "python3",
      "display_name": "Python 3"
    }
  },
  "cells": [
    {
      "cell_type": "markdown",
      "metadata": {
        "id": "view-in-github",
        "colab_type": "text"
      },
      "source": [
        "<a href=\"https://colab.research.google.com/github/mishilda/Tchitulsky/blob/master/Untitled1.ipynb\" target=\"_parent\"><img src=\"https://colab.research.google.com/assets/colab-badge.svg\" alt=\"Open In Colab\"/></a>"
      ]
    },
    {
      "cell_type": "code",
      "metadata": {
        "id": "0hLmv6HlXdoE",
        "colab_type": "code",
        "colab": {}
      },
      "source": [
        "import numpy as np\n",
        "import tensorflow as tf\n",
        "from collections import Counter\n",
        "from sklearn.datasets import fetch_20newsgroups"
      ],
      "execution_count": 0,
      "outputs": []
    },
    {
      "cell_type": "code",
      "metadata": {
        "id": "jBfkThIgXf10",
        "colab_type": "code",
        "colab": {
          "base_uri": "https://localhost:8080/",
          "height": 51
        },
        "outputId": "d4cc88f8-81dd-4978-b8f7-99e7ef822b47"
      },
      "source": [
        "categories = [\"comp.sys.ibm.pc.hardware\",\"rec.motorcycles\",\"talk.politics.mideast\"]\n",
        "newsgroups_train = fetch_20newsgroups(subset='train', categories=categories)\n",
        "newsgroups_test = fetch_20newsgroups(subset='test', categories=categories)"
      ],
      "execution_count": 2,
      "outputs": [
        {
          "output_type": "stream",
          "text": [
            "Downloading 20news dataset. This may take a few minutes.\n",
            "Downloading dataset from https://ndownloader.figshare.com/files/5975967 (14 MB)\n"
          ],
          "name": "stderr"
        }
      ]
    },
    {
      "cell_type": "code",
      "metadata": {
        "id": "5DYUKZyPXkaq",
        "colab_type": "code",
        "colab": {}
      },
      "source": [
        "vocab = Counter()\n",
        "for text in newsgroups_train.data:\n",
        "    for word in text.split(' '):\n",
        "            vocab[word.lower()] += 1\n",
        "\n",
        "for text in newsgroups_test.data:\n",
        "    for word in text.split(' '):\n",
        "        vocab[word.lower()] += 1\n",
        "    \n",
        "total_words = len(vocab)"
      ],
      "execution_count": 0,
      "outputs": []
    },
    {
      "cell_type": "code",
      "metadata": {
        "id": "6xbGvv9rXnxJ",
        "colab_type": "code",
        "colab": {}
      },
      "source": [
        "def get_word_2_index(vocab):\n",
        "    word2index = {}\n",
        "    for i, word in enumerate(vocab):\n",
        "        word2index[word.lower()] = i\n",
        "        \n",
        "    return word2index"
      ],
      "execution_count": 0,
      "outputs": []
    },
    {
      "cell_type": "code",
      "metadata": {
        "id": "cuNNPs0yXzqC",
        "colab_type": "code",
        "colab": {}
      },
      "source": [
        "word2index = get_word_2_index(vocab)"
      ],
      "execution_count": 0,
      "outputs": []
    },
    {
      "cell_type": "code",
      "metadata": {
        "id": "-ABxJ4uoX9dE",
        "colab_type": "code",
        "colab": {}
      },
      "source": [
        "def get_batch(df, i, batch_size):\n",
        "    batches = []\n",
        "    results = []\n",
        "    texts = df.data[i*batch_size:i*batch_size + batch_size]\n",
        "    categories = df.target[i*batch_size: i*batch_size+batch_size]\n",
        "    for text in texts:\n",
        "        layer = np.zeros(total_words, dtype=float)\n",
        "        for word in text.split(' '):\n",
        "            layer[word2index[word.lower()]] += 1\n",
        "        batches.append(layer)\n",
        "    for category in categories:\n",
        "        y = np.zeros((3), dtype=float)\n",
        "        if category == 0:\n",
        "            y[0] = 1.\n",
        "        elif category == 1:\n",
        "            y[1] = 1.\n",
        "        else:\n",
        "            y[2] = 1.\n",
        "        results.append(y)\n",
        "    return np.array(batches), np.array(results)\n",
        "        "
      ],
      "execution_count": 0,
      "outputs": []
    },
    {
      "cell_type": "code",
      "metadata": {
        "id": "zh9_e-YyX-M5",
        "colab_type": "code",
        "colab": {}
      },
      "source": [
        "learning_rate = 0.01\n",
        "training_epochs = 10\n",
        "batch_size = 150\n",
        "display_step = 1\n",
        "\n",
        "n_hidden_1 = 110\n",
        "n_hidden_2 = 150\n",
        "n_hidden_3 = 110\n",
        "n_input = total_words\n",
        "n_classes = 3"
      ],
      "execution_count": 0,
      "outputs": []
    },
    {
      "cell_type": "code",
      "metadata": {
        "id": "HBnXIu4oYbHt",
        "colab_type": "code",
        "colab": {}
      },
      "source": [
        "input_tensor = tf.placeholder(tf.float32, [None, n_input], name=\"input\")\n",
        "output_tensor = tf.placeholder(tf.float32, [None, n_classes], name=\"output\")"
      ],
      "execution_count": 0,
      "outputs": []
    },
    {
      "cell_type": "code",
      "metadata": {
        "id": "zDZMTgBhY0eB",
        "colab_type": "code",
        "colab": {}
      },
      "source": [
        "def multilayer_perceptron(input_tensor, weights, biases):\n",
        "  layer_1_multiplication = tf.matmul(input_tensor, weights['h1'])\n",
        "  layer_1_addition = tf.add(layer_1_multiplication, biases['b1'])\n",
        "  layer_1 = tf.nn.relu(layer_1_addition)\n",
        "  \n",
        "  layer_2_multiplication = tf.matmul(layer_1, weights['h2'])\n",
        "  layer_2_addition = tf.add(layer_2_multiplication, biases['b2'])\n",
        "  layer_2 = tf.nn.relu(layer_2_addition)\n",
        "\n",
        "  layer_3_multiplication = tf.matmul(layer_2, weights['h3'])\n",
        "  layer_3_addition = tf.add(layer_3_multiplication, biases['b3'])\n",
        "  layer_3 = tf.nn.relu(layer_3_addition)\n",
        "  \n",
        "  out_layer_multiplication = tf.matmul(layer_3, weights['out'])\n",
        "  out_layer_addition = out_layer_multiplication + biases['out']\n",
        "  \n",
        "  return out_layer_addition"
      ],
      "execution_count": 0,
      "outputs": []
    },
    {
      "cell_type": "code",
      "metadata": {
        "id": "7Yxd_Cq3aBEl",
        "colab_type": "code",
        "colab": {}
      },
      "source": [
        "weights = {\n",
        "    'h1': tf.Variable(tf.random_normal([n_input, n_hidden_1])),\n",
        "    'h2': tf.Variable(tf.random_normal([n_hidden_1, n_hidden_2])),\n",
        "    'h3': tf.Variable(tf.random_normal([n_hidden_2, n_hidden_3])),\n",
        "    'out': tf.Variable(tf.random_normal([n_hidden_3, n_classes]))\n",
        "}\n",
        "biases = {\n",
        "    'b1': tf.Variable(tf.random_normal([n_hidden_1])),\n",
        "    'b2': tf.Variable(tf.random_normal([n_hidden_2])),\n",
        "    'b3': tf.Variable(tf.random_normal([n_hidden_3])),\n",
        "    'out': tf.Variable(tf.random_normal([n_classes]))\n",
        "}"
      ],
      "execution_count": 0,
      "outputs": []
    },
    {
      "cell_type": "code",
      "metadata": {
        "id": "MSmlylYXa1_m",
        "colab_type": "code",
        "colab": {}
      },
      "source": [
        "prediction = multilayer_perceptron(input_tensor, weights, biases)"
      ],
      "execution_count": 0,
      "outputs": []
    },
    {
      "cell_type": "code",
      "metadata": {
        "id": "nvLHKUPbbA_n",
        "colab_type": "code",
        "colab": {}
      },
      "source": [
        "loss = tf.reduce_mean(tf.nn.softmax_cross_entropy_with_logits(logits=prediction, labels=output_tensor))\n",
        "optimizer = tf.train.AdamOptimizer(learning_rate=learning_rate).minimize(loss)\n",
        "\n",
        "init = tf.global_variables_initializer()"
      ],
      "execution_count": 0,
      "outputs": []
    },
    {
      "cell_type": "code",
      "metadata": {
        "id": "Y0fhFALwbszz",
        "colab_type": "code",
        "outputId": "d6d16f15-27b3-49af-9f6d-f8d5212c9d31",
        "colab": {
          "base_uri": "https://localhost:8080/",
          "height": 221
        }
      },
      "source": [
        "with tf.Session() as sess:\n",
        "  sess.run(init)\n",
        "  \n",
        "  for epoch in range(training_epochs):\n",
        "    avg_cost = 0.\n",
        "    total_batch = int(len(newsgroups_train.data)/batch_size)\n",
        "    for i in range(total_batch):\n",
        "      batch_x, batch_y = get_batch(newsgroups_train, i, batch_size)\n",
        "      c,_ = sess.run([loss,optimizer], feed_dict={input_tensor: batch_x, output_tensor: batch_y})\n",
        "      avg_cost+=c/total_batch\n",
        "    print(\"Эпоха:\", '%04d' %(epoch+1), \"loss=\",\"{:.16f}\".format(avg_cost))\n",
        "  print(\"Обучение завершено!\")\n",
        "  \n",
        "  correct_prediction = tf.equal(tf.argmax(prediction, 1), tf.argmax(output_tensor, 1))\n",
        "  accuracy = tf.reduce_mean(tf.cast(correct_prediction, \"float\"))\n",
        "  total_test_data = len(newsgroups_test.target)\n",
        "  batch_x_test, batch_y_test = get_batch(newsgroups_test, 0, total_test_data)\n",
        "  print(\"Точность\", accuracy.eval({input_tensor: batch_x_test, output_tensor: batch_y_test}))\n",
        "     \n",
        "    "
      ],
      "execution_count": 35,
      "outputs": [
        {
          "output_type": "stream",
          "text": [
            "Эпоха: 0001 loss= 8014.6663263494319835\n",
            "Эпоха: 0002 loss= 1842.8982211026277582\n",
            "Эпоха: 0003 loss= 654.3472720059480707\n",
            "Эпоха: 0004 loss= 269.6364836259321578\n",
            "Эпоха: 0005 loss= 32.0869840220971554\n",
            "Эпоха: 0006 loss= 22.9802168499339707\n",
            "Эпоха: 0007 loss= 0.1187715638767589\n",
            "Эпоха: 0008 loss= 0.0000000000000000\n",
            "Эпоха: 0009 loss= 0.0000000000000000\n",
            "Эпоха: 0010 loss= 0.0000000000000000\n",
            "Обучение завершено!\n",
            "Точность 0.7684391\n"
          ],
          "name": "stdout"
        }
      ]
    },
    {
      "cell_type": "code",
      "metadata": {
        "id": "6EtQMSlNeHge",
        "colab_type": "code",
        "colab": {}
      },
      "source": [
        ""
      ],
      "execution_count": 0,
      "outputs": []
    }
  ]
}